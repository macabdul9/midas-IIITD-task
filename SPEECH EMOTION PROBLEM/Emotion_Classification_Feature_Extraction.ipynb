{
  "nbformat": 4,
  "nbformat_minor": 0,
  "metadata": {
    "colab": {
      "name": "Emotion-Classification-Feature-Extraction",
      "provenance": [],
      "toc_visible": true
    },
    "kernelspec": {
      "name": "python3",
      "display_name": "Python 3"
    },
    "accelerator": "GPU"
  },
  "cells": [
    {
      "cell_type": "markdown",
      "metadata": {
        "id": "qZfi-JAfmYvx",
        "colab_type": "text"
      },
      "source": [
        "## Text Extraction from Speech Extraction"
      ]
    },
    {
      "cell_type": "code",
      "metadata": {
        "id": "6oST-zbbm0gE",
        "colab_type": "code",
        "colab": {}
      },
      "source": [
        "!sudo apt-get install -qq python python-dev python-pip build-essential swig libpulse-dev\n",
        "!sudo pip install pocketsphinx"
      ],
      "execution_count": 0,
      "outputs": []
    },
    {
      "cell_type": "code",
      "metadata": {
        "id": "PAsuBZqUmTOl",
        "colab_type": "code",
        "outputId": "45fe0493-3a86-46d9-e6c7-6735b2631459",
        "colab": {
          "base_uri": "https://localhost:8080/",
          "height": 124
        }
      },
      "source": [
        "from google.colab import drive\n",
        "drive.mount('/content/drive')"
      ],
      "execution_count": 1,
      "outputs": [
        {
          "output_type": "stream",
          "text": [
            "Go to this URL in a browser: https://accounts.google.com/o/oauth2/auth?client_id=947318989803-6bn6qk8qdgf4n4g3pfee6491hc0brc4i.apps.googleusercontent.com&redirect_uri=urn%3Aietf%3Awg%3Aoauth%3A2.0%3Aoob&scope=email%20https%3A%2F%2Fwww.googleapis.com%2Fauth%2Fdocs.test%20https%3A%2F%2Fwww.googleapis.com%2Fauth%2Fdrive%20https%3A%2F%2Fwww.googleapis.com%2Fauth%2Fdrive.photos.readonly%20https%3A%2F%2Fwww.googleapis.com%2Fauth%2Fpeopleapi.readonly&response_type=code\n",
            "\n",
            "Enter your authorization code:\n",
            "··········\n",
            "Mounted at /content/drive\n"
          ],
          "name": "stdout"
        }
      ]
    },
    {
      "cell_type": "code",
      "metadata": {
        "id": "g7QQBUoRmh5u",
        "colab_type": "code",
        "colab": {}
      },
      "source": [
        "# !unzip drive/My\\ Drive/emotion"
      ],
      "execution_count": 0,
      "outputs": []
    },
    {
      "cell_type": "code",
      "metadata": {
        "id": "ZT5NDK7Cm0Dk",
        "colab_type": "code",
        "colab": {}
      },
      "source": [
        "# !pip install --upgrade \"ibm-watson>=4.0.1\"\n",
        "# !pip install SpeechRecognition\n"
      ],
      "execution_count": 0,
      "outputs": []
    },
    {
      "cell_type": "code",
      "metadata": {
        "id": "pXGwWA8a2rWP",
        "colab_type": "code",
        "colab": {}
      },
      "source": [
        "import json\n",
        "from os.path import join, dirname\n",
        "from ibm_watson import SpeechToTextV1\n",
        "from ibm_cloud_sdk_core.authenticators import IAMAuthenticator"
      ],
      "execution_count": 0,
      "outputs": []
    },
    {
      "cell_type": "code",
      "metadata": {
        "id": "kH3quRrK3JeY",
        "colab_type": "code",
        "colab": {}
      },
      "source": [
        "import speech_recognition as sr\n"
      ],
      "execution_count": 0,
      "outputs": []
    },
    {
      "cell_type": "code",
      "metadata": {
        "id": "WrBz64rrOwYy",
        "colab_type": "code",
        "colab": {}
      },
      "source": [
        "import os"
      ],
      "execution_count": 0,
      "outputs": []
    },
    {
      "cell_type": "code",
      "metadata": {
        "id": "-nL6rETFoV11",
        "colab_type": "code",
        "colab": {}
      },
      "source": [
        "import librosa\n",
        "import librosa.display\n",
        "import matplotlib.pyplot as plt"
      ],
      "execution_count": 0,
      "outputs": []
    },
    {
      "cell_type": "code",
      "metadata": {
        "id": "MA-gTDf3qYv6",
        "colab_type": "code",
        "colab": {}
      },
      "source": [
        "import numpy as np\n",
        "import pandas as pd"
      ],
      "execution_count": 0,
      "outputs": []
    },
    {
      "cell_type": "code",
      "metadata": {
        "id": "4ZuzRC9i2xWZ",
        "colab_type": "code",
        "colab": {}
      },
      "source": [
        "authenticator = IAMAuthenticator('IUsZZBiWve_v7Jd0fGezFwNzODFnNKhZZ9FdhY-GPnZR')\n",
        "speech_to_text = SpeechToTextV1(authenticator=authenticator)\n",
        "\n",
        "speech_to_text.set_service_url('https://gateway-lon.watsonplatform.net/speech-to-text/api')\n",
        "\n",
        "\n",
        "with open('meld/val/neutral/MEL_dia83_utt3_positive_NEU.wav', 'rb') as audio_file:\n",
        "    speech_recognition_results = speech_to_text.recognize(audio=audio_file, content_type='audio/wav',word_alternatives_threshold=0.9, timestamps=False).get_result()"
      ],
      "execution_count": 0,
      "outputs": []
    },
    {
      "cell_type": "code",
      "metadata": {
        "id": "E-GvN8P-221O",
        "colab_type": "code",
        "colab": {
          "base_uri": "https://localhost:8080/",
          "height": 34
        },
        "outputId": "90d35319-cfe0-42b5-ba30-7e81fe7d8d9f"
      },
      "source": [
        "speech_recognition_results"
      ],
      "execution_count": 270,
      "outputs": [
        {
          "output_type": "execute_result",
          "data": {
            "text/plain": [
              "{'result_index': 0, 'results': []}"
            ]
          },
          "metadata": {
            "tags": []
          },
          "execution_count": 270
        }
      ]
    },
    {
      "cell_type": "code",
      "metadata": {
        "id": "9QxhOzqe3e-0",
        "colab_type": "code",
        "colab": {}
      },
      "source": [
        "file = 'meld/val/neutral/MEL_dia83_utt3_positive_NEU.wav'\n",
        "file_audio = sr.AudioFile(file)"
      ],
      "execution_count": 0,
      "outputs": []
    },
    {
      "cell_type": "code",
      "metadata": {
        "id": "pV3bbVn33hrS",
        "colab_type": "code",
        "colab": {}
      },
      "source": [
        "with file_audio as source:\n",
        "  audio = r.record(source)"
      ],
      "execution_count": 0,
      "outputs": []
    },
    {
      "cell_type": "code",
      "metadata": {
        "id": "nJXOfVyj3kIz",
        "colab_type": "code",
        "outputId": "6b5e0232-5d03-440d-9884-ddc23a26ab9f",
        "colab": {
          "base_uri": "https://localhost:8080/",
          "height": 34
        }
      },
      "source": [
        "try:\n",
        "  print(r.recognize_google(audio))\n",
        "except:\n",
        "  print(' exception occured')"
      ],
      "execution_count": 274,
      "outputs": [
        {
          "output_type": "stream",
          "text": [
            " exception occured\n"
          ],
          "name": "stdout"
        }
      ]
    },
    {
      "cell_type": "code",
      "metadata": {
        "id": "YicXgUFanQhA",
        "colab_type": "code",
        "colab": {}
      },
      "source": [
        "aud, sr = librosa.load(path=file, duration=6)\n",
        "S = librosa.feature.melspectrogram(y=y, sr=sr, n_mels=128, fmax=8000)"
      ],
      "execution_count": 0,
      "outputs": []
    },
    {
      "cell_type": "code",
      "metadata": {
        "id": "Oq0LrQIw77hL",
        "colab_type": "code",
        "colab": {
          "base_uri": "https://localhost:8080/",
          "height": 248
        },
        "outputId": "bd58a5f7-da14-4565-9964-7f51e8dd3ed0"
      },
      "source": [
        "aud, sr = librosa.load(path=file, duration=6)\n",
        "S = librosa.feature.melspectrogram(y=y, sr=sr, n_mels=128, fmax=8000)\n",
        "S_dB = librosa.power_to_db(S, ref=np.max)\n",
        "fig = librosa.display.specshow(S_dB, x_axis=None,y_axis=None, sr=sr, fmax=8000)\n",
        "plt.box(on=False)\n",
        "plt.savefig('a.jpg')\n"
      ],
      "execution_count": 191,
      "outputs": [
        {
          "output_type": "display_data",
          "data": {
            "image/png": "[encoded data removed]",
            "text/plain": [
              "<Figure size 432x288 with 1 Axes>"
            ]
          },
          "metadata": {
            "tags": []
          }
        }
      ]
    },
    {
      "cell_type": "code",
      "metadata": {
        "id": "NyYzTIjA767v",
        "colab_type": "code",
        "colab": {}
      },
      "source": [
        "mfccs = librosa.feature.mfcc(y=y, sr=sr, n_mfcc=40)"
      ],
      "execution_count": 0,
      "outputs": []
    },
    {
      "cell_type": "code",
      "metadata": {
        "id": "jvD7BMU5BB3P",
        "colab_type": "code",
        "colab": {
          "base_uri": "https://localhost:8080/",
          "height": 248
        },
        "outputId": "4ac483ce-dd36-42d3-f4e5-348a14810cd2"
      },
      "source": [
        "fig = librosa.display.specshow(mfccs, x_axis=None)\n",
        "plt.box(on=False)\n",
        "plt.savefig('a.jpg')"
      ],
      "execution_count": 186,
      "outputs": [
        {
          "output_type": "display_data",
          "data": {
            "image/png": "[encoded data removed]",
            "text/plain": [
              "<Figure size 432x288 with 1 Axes>"
            ]
          },
          "metadata": {
            "tags": []
          }
        }
      ]
    },
    {
      "cell_type": "code",
      "metadata": {
        "id": "MPH9C8Qd76bp",
        "colab_type": "code",
        "colab": {}
      },
      "source": [
        "from keras.preprocessing import image"
      ],
      "execution_count": 0,
      "outputs": []
    },
    {
      "cell_type": "code",
      "metadata": {
        "id": "wj23D4KC758K",
        "colab_type": "code",
        "colab": {
          "base_uri": "https://localhost:8080/",
          "height": 333
        },
        "outputId": "f39e257b-3ef1-4507-f8b6-9c7ed60dbba8"
      },
      "source": [
        "img = image.array_to_img(S_dB)"
      ],
      "execution_count": 110,
      "outputs": [
        {
          "output_type": "error",
          "ename": "ValueError",
          "evalue": "ignored",
          "traceback": [
            "\u001b[0;31m---------------------------------------------------------------------------\u001b[0m",
            "\u001b[0;31mValueError\u001b[0m                                Traceback (most recent call last)",
            "\u001b[0;32m<ipython-input-110-9af857b084b8>\u001b[0m in \u001b[0;36m<module>\u001b[0;34m()\u001b[0m\n\u001b[0;32m----> 1\u001b[0;31m \u001b[0mimg\u001b[0m \u001b[0;34m=\u001b[0m \u001b[0mimage\u001b[0m\u001b[0;34m.\u001b[0m\u001b[0marray_to_img\u001b[0m\u001b[0;34m(\u001b[0m\u001b[0mS_dB\u001b[0m\u001b[0;34m)\u001b[0m\u001b[0;34m\u001b[0m\u001b[0;34m\u001b[0m\u001b[0m\n\u001b[0m",
            "\u001b[0;32m/usr/local/lib/python3.6/dist-packages/keras/preprocessing/image.py\u001b[0m in \u001b[0;36marray_to_img\u001b[0;34m(x, data_format, scale, dtype)\u001b[0m\n\u001b[1;32m     32\u001b[0m                                   \u001b[0mdata_format\u001b[0m\u001b[0;34m=\u001b[0m\u001b[0mdata_format\u001b[0m\u001b[0;34m,\u001b[0m\u001b[0;34m\u001b[0m\u001b[0;34m\u001b[0m\u001b[0m\n\u001b[1;32m     33\u001b[0m                                   \u001b[0mscale\u001b[0m\u001b[0;34m=\u001b[0m\u001b[0mscale\u001b[0m\u001b[0;34m,\u001b[0m\u001b[0;34m\u001b[0m\u001b[0;34m\u001b[0m\u001b[0m\n\u001b[0;32m---> 34\u001b[0;31m                                   dtype=dtype)\n\u001b[0m\u001b[1;32m     35\u001b[0m     return image.array_to_img(x,\n\u001b[1;32m     36\u001b[0m                               \u001b[0mdata_format\u001b[0m\u001b[0;34m=\u001b[0m\u001b[0mdata_format\u001b[0m\u001b[0;34m,\u001b[0m\u001b[0;34m\u001b[0m\u001b[0;34m\u001b[0m\u001b[0m\n",
            "\u001b[0;32m/usr/local/lib/python3.6/dist-packages/keras_preprocessing/image/utils.py\u001b[0m in \u001b[0;36marray_to_img\u001b[0;34m(x, data_format, scale, dtype)\u001b[0m\n\u001b[1;32m    248\u001b[0m     \u001b[0;32mif\u001b[0m \u001b[0mx\u001b[0m\u001b[0;34m.\u001b[0m\u001b[0mndim\u001b[0m \u001b[0;34m!=\u001b[0m \u001b[0;36m3\u001b[0m\u001b[0;34m:\u001b[0m\u001b[0;34m\u001b[0m\u001b[0;34m\u001b[0m\u001b[0m\n\u001b[1;32m    249\u001b[0m         raise ValueError('Expected image array to have rank 3 (single image). '\n\u001b[0;32m--> 250\u001b[0;31m                          'Got array with shape: %s' % (x.shape,))\n\u001b[0m\u001b[1;32m    251\u001b[0m \u001b[0;34m\u001b[0m\u001b[0m\n\u001b[1;32m    252\u001b[0m     \u001b[0;32mif\u001b[0m \u001b[0mdata_format\u001b[0m \u001b[0;32mnot\u001b[0m \u001b[0;32min\u001b[0m \u001b[0;34m{\u001b[0m\u001b[0;34m'channels_first'\u001b[0m\u001b[0;34m,\u001b[0m \u001b[0;34m'channels_last'\u001b[0m\u001b[0;34m}\u001b[0m\u001b[0;34m:\u001b[0m\u001b[0;34m\u001b[0m\u001b[0;34m\u001b[0m\u001b[0m\n",
            "\u001b[0;31mValueError\u001b[0m: Expected image array to have rank 3 (single image). Got array with shape: (128, 77)"
          ]
        }
      ]
    },
    {
      "cell_type": "code",
      "metadata": {
        "id": "IDqXI1FDn6sR",
        "colab_type": "code",
        "colab": {}
      },
      "source": [
        "os.mkdir('mel_spectrogram/')"
      ],
      "execution_count": 0,
      "outputs": []
    },
    {
      "cell_type": "code",
      "metadata": {
        "id": "LlqqmV5x26Rb",
        "colab_type": "code",
        "colab": {}
      },
      "source": [
        "def extract_text_feature(file):\n",
        "  text = ''\n",
        "  file_audio = sr.AudioFile(file)\n",
        "  with file_audio as source:\n",
        "    audio = r.record(source)\n",
        "    \n",
        "  try:\n",
        "    text = r.recognize_google(audio)\n",
        "  except Exception:\n",
        "    with open(file, 'rb') as audio_file:\n",
        "      speech_recognition_results = speech_to_text.recognize(audio=audio_file, content_type='audio/wav',word_alternatives_threshold=0.9, timestamps=False).get_result()\n",
        "      if len(speech_recognition_results['results']) > 0:\n",
        "        text = speech_recognition_results['results'][0]['alternatives'][0]['transcript']\n",
        "  except Exception:\n",
        "    text = r.recognize_sphinx(audio) \n",
        "  except:\n",
        "    pass\n",
        "  if len(text) < 1:\n",
        "    text = 'no text recognized'\n",
        " \n",
        "  return text\n",
        "\n",
        "\n",
        "def get_mfcc(file, feature='mfcc'):\n",
        "  \n",
        "  # image file\n",
        "  img = file.replace('.wav', '_mfcc.jpg')\n",
        "  img = img.split('/')[-1]\n",
        "  \n",
        "  # mfcc features\n",
        "  aud, sr = librosa.load(path=file, duration=6)\n",
        "  S = librosa.feature.melspectrogram(y=y, sr=sr, n_mels=128, fmax=8000)\n",
        "  mfccs = librosa.feature.mfcc(y=y, sr=sr, n_mfcc=40)\n",
        "  \n",
        "  fig = librosa.display.specshow(mfccs, x_axis=None)\n",
        "  plt.box(on=False)\n",
        "  plt.savefig('mfcc/'+img,  pad_inches=0)\n",
        "  return img\n",
        "\n",
        "  \n",
        "def get_mel(file, feature='mel_spec'):\n",
        "  \n",
        "  # image file\n",
        "  img = file.replace('.wav', '_mel.jpg')\n",
        "  img = img.split('/')[-1]\n",
        "  \n",
        "  # get the mel spectrogram\n",
        "  aud, sr = librosa.load(path=file, duration=6)\n",
        "  S = librosa.feature.melspectrogram(y=y, sr=sr, n_mels=128, fmax=8000)\n",
        "  S_dB = librosa.power_to_db(S, ref=np.max)\n",
        "  fig = librosa.display.specshow(S_dB, x_axis=None,y_axis=None, sr=sr, fmax=8000)\n",
        "  \n",
        "  plt.box(on=False)\n",
        "  plt.savefig('mel_spectrogram/'+img,  pad_inches=0)\n",
        "  \n",
        "  return img\n",
        "\n",
        "def get_rms(file, feature='rms'):\n",
        "  aud, sr = librosa.load(path=file, duration=6)\n",
        "  S, phase = librosa.magphase(librosa.stft(y))\n",
        "  rms = librosa.feature.rms(S=S)\n",
        "  rms = rms.flatten()\n",
        "  if rms.shape[0] < 128:\n",
        "    rms = np.pad(rms, pad_width=128-rms.shape[0],mode='mean')\n",
        "  elif rms.shape[0] > 128:\n",
        "    rms = rms[:128]\n",
        "  return rms"
      ],
      "execution_count": 0,
      "outputs": []
    },
    {
      "cell_type": "code",
      "metadata": {
        "id": "FI5C4BnhOtrq",
        "colab_type": "code",
        "colab": {}
      },
      "source": [
        "classes = os.listdir('meld/train/')"
      ],
      "execution_count": 0,
      "outputs": []
    },
    {
      "cell_type": "code",
      "metadata": {
        "id": "vi3VwGfN2-0j",
        "colab_type": "code",
        "colab": {}
      },
      "source": [
        "np.random.seed(42)\n",
        "\n",
        "#DataFlair - Load the data and extract features for each sound file\n",
        "\n",
        "\n",
        "def load_data(path):\n",
        "  features = {}\n",
        "    \n",
        "  for cls in classes:\n",
        "    \n",
        "    i = 0\n",
        "  \n",
        "    files = np.array(os.listdir(path+'/'+cls))\n",
        "    # downsampling we will take only less than 500 data points\n",
        "    if files.shape[0] > 1000:\n",
        "      files = files[np.random.permutation(1000)]\n",
        "      \n",
        "    for file in files:\n",
        "      data = {}\n",
        "      \n",
        "      file_path = path+'/'+cls+'/'+file\n",
        "      text = extract_text_feature(str(file_path))\n",
        "      mfcc = get_mfcc(str(file_path))\n",
        "      mel = get_mel(str(file_path))\n",
        "      rms = get_rms(str(file_path))\n",
        "      \n",
        "      data['emotion']=cls\n",
        "      data['text']=text\n",
        "      data['mfcc']=mfcc\n",
        "      data['mel']=mel\n",
        "      data['rms']=rms\n",
        "      \n",
        "      if i%100==0:\n",
        "        print('%d of class '%i+cls+\" have been processed\")\n",
        "      i+=1\n",
        "      \n",
        "      features[file_path] = data\n",
        "\n",
        "  return features\n"
      ],
      "execution_count": 0,
      "outputs": []
    },
    {
      "cell_type": "code",
      "metadata": {
        "id": "GBfystFzM9Ad",
        "colab_type": "code",
        "colab": {
          "base_uri": "https://localhost:8080/",
          "height": 139
        },
        "outputId": "a068d760-227b-4f7f-ffa5-9dada90f8478"
      },
      "source": [
        "features = load_data('meld/val')"
      ],
      "execution_count": 0,
      "outputs": [
        {
          "output_type": "stream",
          "text": [
            "0 of class neutral have been processed\n",
            "100 of class neutral have been processed\n",
            "200 of class neutral have been processed\n",
            "300 of class neutral have been processed\n",
            "400 of class neutral have been processed\n",
            "500 of class neutral have been processed\n",
            "0 of class happy have been processed\n"
          ],
          "name": "stdout"
        }
      ]
    },
    {
      "cell_type": "code",
      "metadata": {
        "id": "OWincpp0RZ6C",
        "colab_type": "code",
        "colab": {
          "base_uri": "https://localhost:8080/",
          "height": 34
        },
        "outputId": "30de97fd-2452-4d0c-8832-745b09cb583a"
      },
      "source": [
        "len(features)"
      ],
      "execution_count": 302,
      "outputs": [
        {
          "output_type": "execute_result",
          "data": {
            "text/plain": [
              "64"
            ]
          },
          "metadata": {
            "tags": []
          },
          "execution_count": 302
        }
      ]
    },
    {
      "cell_type": "code",
      "metadata": {
        "id": "dXQBquD-k3IX",
        "colab_type": "code",
        "colab": {}
      },
      "source": [
        "y, sr = librosa.load('/content/meld/val/fear/MEL_dia0_utt10_negative_FEA.wav')"
      ],
      "execution_count": 0,
      "outputs": []
    },
    {
      "cell_type": "code",
      "metadata": {
        "id": "x9PvHflxVXN9",
        "colab_type": "code",
        "colab": {}
      },
      "source": [
        "S, phase = librosa.magphase(librosa.stft(y))"
      ],
      "execution_count": 0,
      "outputs": []
    },
    {
      "cell_type": "code",
      "metadata": {
        "id": "XGjq6GAejWD1",
        "colab_type": "code",
        "colab": {}
      },
      "source": [
        "rms = librosa.feature.rms(S=S)\n"
      ],
      "execution_count": 0,
      "outputs": []
    },
    {
      "cell_type": "code",
      "metadata": {
        "id": "-u0D4YGejZUz",
        "colab_type": "code",
        "colab": {
          "base_uri": "https://localhost:8080/",
          "height": 34
        },
        "outputId": "3952a367-8a6d-4689-a93c-f6612aa672de"
      },
      "source": [
        "rms.shape"
      ],
      "execution_count": 328,
      "outputs": [
        {
          "output_type": "execute_result",
          "data": {
            "text/plain": [
              "(1, 87)"
            ]
          },
          "metadata": {
            "tags": []
          },
          "execution_count": 328
        }
      ]
    },
    {
      "cell_type": "code",
      "metadata": {
        "id": "MPzQGaNXjyJp",
        "colab_type": "code",
        "colab": {}
      },
      "source": [
        "!rm -rf mfcc/"
      ],
      "execution_count": 0,
      "outputs": []
    },
    {
      "cell_type": "code",
      "metadata": {
        "id": "HCPEm7Lap4D6",
        "colab_type": "code",
        "colab": {}
      },
      "source": [
        ""
      ],
      "execution_count": 0,
      "outputs": []
    }
  ]
}