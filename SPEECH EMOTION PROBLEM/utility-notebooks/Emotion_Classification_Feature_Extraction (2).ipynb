{
  "nbformat": 4,
  "nbformat_minor": 0,
  "metadata": {
    "colab": {
      "name": "Emotion_Classification_Feature_Extraction.ipynb",
      "provenance": [],
      "toc_visible": true
    },
    "kernelspec": {
      "name": "python3",
      "display_name": "Python 3"
    },
    "accelerator": "GPU"
  },
  "cells": [
    {
      "cell_type": "markdown",
      "metadata": {
        "id": "qZfi-JAfmYvx",
        "colab_type": "text"
      },
      "source": [
        "## Spectral Feature Extraction"
      ]
    },
    {
      "cell_type": "code",
      "metadata": {
        "id": "6oST-zbbm0gE",
        "colab_type": "code",
        "colab": {}
      },
      "source": [
        "# !sudo apt-get install -qq python python-dev python-pip build-essential swig libpulse-dev\n",
        "# !sudo pip install pocketsphinx"
      ],
      "execution_count": 0,
      "outputs": []
    },
    {
      "cell_type": "code",
      "metadata": {
        "id": "PAsuBZqUmTOl",
        "colab_type": "code",
        "outputId": "a6c66340-50f5-4107-82c0-ed5d5f55940f",
        "colab": {
          "base_uri": "https://localhost:8080/",
          "height": 122
        }
      },
      "source": [
        "from google.colab import drive\n",
        "drive.mount('/content/drive')"
      ],
      "execution_count": 0,
      "outputs": [
        {
          "output_type": "stream",
          "text": [
            "Go to this URL in a browser: https://accounts.google.com/o/oauth2/auth?client_id=947318989803-6bn6qk8qdgf4n4g3pfee6491hc0brc4i.apps.googleusercontent.com&redirect_uri=urn%3Aietf%3Awg%3Aoauth%3A2.0%3Aoob&scope=email%20https%3A%2F%2Fwww.googleapis.com%2Fauth%2Fdocs.test%20https%3A%2F%2Fwww.googleapis.com%2Fauth%2Fdrive%20https%3A%2F%2Fwww.googleapis.com%2Fauth%2Fdrive.photos.readonly%20https%3A%2F%2Fwww.googleapis.com%2Fauth%2Fpeopleapi.readonly&response_type=code\n",
            "\n",
            "Enter your authorization code:\n",
            "··········\n",
            "Mounted at /content/drive\n"
          ],
          "name": "stdout"
        }
      ]
    },
    {
      "cell_type": "code",
      "metadata": {
        "id": "g7QQBUoRmh5u",
        "colab_type": "code",
        "colab": {}
      },
      "source": [
        "# !unzip drive/My\\ Drive/emotion"
      ],
      "execution_count": 0,
      "outputs": []
    },
    {
      "cell_type": "code",
      "metadata": {
        "id": "WrBz64rrOwYy",
        "colab_type": "code",
        "colab": {}
      },
      "source": [
        "import os"
      ],
      "execution_count": 0,
      "outputs": []
    },
    {
      "cell_type": "code",
      "metadata": {
        "id": "-nL6rETFoV11",
        "colab_type": "code",
        "colab": {}
      },
      "source": [
        "import librosa\n",
        "import librosa.display\n",
        "import matplotlib.pyplot as plt"
      ],
      "execution_count": 0,
      "outputs": []
    },
    {
      "cell_type": "code",
      "metadata": {
        "id": "MA-gTDf3qYv6",
        "colab_type": "code",
        "colab": {}
      },
      "source": [
        "import numpy as np\n",
        "import pandas as pd"
      ],
      "execution_count": 0,
      "outputs": []
    },
    {
      "cell_type": "code",
      "metadata": {
        "id": "fGJJ5ed0IYhF",
        "colab_type": "code",
        "colab": {}
      },
      "source": [
        "classes = os.listdir('meld/train/')"
      ],
      "execution_count": 0,
      "outputs": []
    },
    {
      "cell_type": "code",
      "metadata": {
        "id": "jeDfSHJTItre",
        "colab_type": "code",
        "colab": {
          "base_uri": "https://localhost:8080/",
          "height": 34
        },
        "outputId": "5c5fccd2-bd87-47e3-91fa-200ae9298e8c"
      },
      "source": [
        "classes"
      ],
      "execution_count": 5,
      "outputs": [
        {
          "output_type": "execute_result",
          "data": {
            "text/plain": [
              "['neutral', 'happy', 'disgust', 'sad', 'fear']"
            ]
          },
          "metadata": {
            "tags": []
          },
          "execution_count": 5
        }
      ]
    },
    {
      "cell_type": "code",
      "metadata": {
        "id": "Zdq1EL-gPlAj",
        "colab_type": "code",
        "colab": {}
      },
      "source": [
        "# !rm -rf train_mel_spectrogram_neutral/\n",
        "# !rm -rf train_mfcc_neutral/\n",
        "os.mkdir('train_mel_spectrogram_'+str(classes[4]))\n",
        "os.mkdir('train_mfcc_'+str(classes[4]))"
      ],
      "execution_count": 0,
      "outputs": []
    },
    {
      "cell_type": "code",
      "metadata": {
        "id": "IDqXI1FDn6sR",
        "colab_type": "code",
        "colab": {}
      },
      "source": [
        "# os.mkdir('train_mel_spectrogram_'+str(classes[0]))"
      ],
      "execution_count": 0,
      "outputs": []
    },
    {
      "cell_type": "code",
      "metadata": {
        "id": "jJhr55k4JFrG",
        "colab_type": "code",
        "colab": {}
      },
      "source": [
        "# os.mkdir('train_mfcc_'+str(classes[0]))"
      ],
      "execution_count": 0,
      "outputs": []
    },
    {
      "cell_type": "markdown",
      "metadata": {
        "colab_type": "text",
        "id": "Kn1Qjv-ODUrR"
      },
      "source": [
        ""
      ]
    },
    {
      "cell_type": "code",
      "metadata": {
        "colab_type": "code",
        "id": "3-dz0gr0N1bd",
        "colab": {}
      },
      "source": [
        "def get_mfcc(file, feature='mfcc'):\n",
        "  \n",
        "  # image file\n",
        "  img = file.replace('.wav', '_mfcc.jpg')\n",
        "  img = img.split('/')[-1]\n",
        "  \n",
        "  # mfcc features\n",
        "  aud, sr = librosa.load(path=file, duration=6)\n",
        "  mfcc = librosa.feature.mfcc(y=aud, sr=sr, n_mfcc=40)\n",
        "  fig = librosa.display.specshow(mfcc, x_axis=None, y_axis=None)\n",
        "  plt.box(on=False)\n",
        "  plt.savefig('train_mel_spectrogram_fear/'+img,  pad_inches=0)\n",
        "  return img\n",
        "\n",
        "  \n",
        "def get_mel(file, feature='mel_spec'):\n",
        "  \n",
        "  # image file\n",
        "  img = file.replace('.wav', '_mel.jpg')\n",
        "  img = img.split('/')[-1]\n",
        "  \n",
        "  # get the mel spectrogram\n",
        "  aud, sr = librosa.load(path=file, duration=6)\n",
        "  S = librosa.feature.melspectrogram(y=aud, sr=sr, n_mels=128, fmax=8000)\n",
        "  S_dB = librosa.power_to_db(S, ref=np.max)\n",
        "  fig = librosa.display.specshow(S_dB, x_axis=None,y_axis=None, sr=sr, fmax=8000)\n",
        "  \n",
        "  plt.box(on=False)\n",
        "  plt.savefig('train_mfcc_fear/'+img,  pad_inches=0)\n",
        "  \n",
        "  return img\n",
        "\n",
        "def get_rms(file, feature='rms'):\n",
        "  aud, sr = librosa.load(path=file, duration=6)\n",
        "  S, phase = librosa.magphase(librosa.stft(aud))\n",
        "  rms = librosa.feature.rms(S=S)\n",
        "  rms = rms.flatten()\n",
        "  if rms.shape[0] < 128:\n",
        "    rms = np.pad(rms, pad_width=128-rms.shape[0],mode='mean')\n",
        "  elif rms.shape[0] > 128:\n",
        "    rms = rms[:128]\n",
        "  return rms"
      ],
      "execution_count": 0,
      "outputs": []
    },
    {
      "cell_type": "code",
      "metadata": {
        "id": "U7jEXuT2KW4C",
        "colab_type": "code",
        "colab": {}
      },
      "source": [
        "features_train_neutral = {}\n"
      ],
      "execution_count": 0,
      "outputs": []
    },
    {
      "cell_type": "code",
      "metadata": {
        "id": "gvL-c-xhC_1r",
        "colab_type": "code",
        "colab": {}
      },
      "source": [
        "features_train_fear = {}"
      ],
      "execution_count": 0,
      "outputs": []
    },
    {
      "cell_type": "code",
      "metadata": {
        "id": "vi3VwGfN2-0j",
        "colab_type": "code",
        "colab": {}
      },
      "source": [
        "np.random.seed(42)\n",
        "\n",
        "#DataFlair - Load the data and extract features for each sound file\n",
        "\n",
        "def load_data(path, cls=classes[4]):\n",
        "    \n",
        "  \n",
        "    files = np.array(os.listdir(path))\n",
        "    # downsampling we will take only less than 700 data points\n",
        "    if files.shape[0] > 700:\n",
        "      files = files[:700]\n",
        "      \n",
        "    i = 0\n",
        "      \n",
        "    for file in files:\n",
        "      data = {}\n",
        "      \n",
        "      file_path = path+'/'+file\n",
        "      mfcc = get_mfcc(str(file_path))\n",
        "      mel = get_mel(str(file_path))\n",
        "      rms = get_rms(str(file_path))\n",
        "      \n",
        "      data['emotion']=cls\n",
        "      data['mfcc']=mfcc\n",
        "      data['mel']=mel\n",
        "      data['rms']=rms\n",
        "      \n",
        "      features_train_fear[file] = data\n",
        "\n",
        "      \n",
        "      if i%50==0:\n",
        "        print('%d of class '%i+cls+\" have been processed\")\n",
        "      i+=1\n",
        "            \n",
        "    return features_train_fear"
      ],
      "execution_count": 0,
      "outputs": []
    },
    {
      "cell_type": "code",
      "metadata": {
        "id": "GBfystFzM9Ad",
        "colab_type": "code",
        "outputId": "d01a6b18-944f-4a7a-e81b-3f769ce29d7b",
        "colab": {
          "base_uri": "https://localhost:8080/",
          "height": 333
        }
      },
      "source": [
        "features = load_data('meld/train/fear/')"
      ],
      "execution_count": 32,
      "outputs": [
        {
          "output_type": "stream",
          "text": [
            "0 of class fear have been processed\n",
            "50 of class fear have been processed\n",
            "100 of class fear have been processed\n",
            "150 of class fear have been processed\n",
            "200 of class fear have been processed\n"
          ],
          "name": "stdout"
        },
        {
          "output_type": "display_data",
          "data": {
            "image/png": "[encoded data removed]",
            "text/plain": [
              "<Figure size 432x288 with 1 Axes>"
            ]
          },
          "metadata": {
            "tags": []
          }
        }
      ]
    },
    {
      "cell_type": "code",
      "metadata": {
        "id": "OWincpp0RZ6C",
        "colab_type": "code",
        "outputId": "d4c5e2b3-aac8-4105-c085-64b13cdc5274",
        "colab": {
          "base_uri": "https://localhost:8080/",
          "height": 34
        }
      },
      "source": [
        "len(features_train_fear)"
      ],
      "execution_count": 33,
      "outputs": [
        {
          "output_type": "execute_result",
          "data": {
            "text/plain": [
              "216"
            ]
          },
          "metadata": {
            "tags": []
          },
          "execution_count": 33
        }
      ]
    },
    {
      "cell_type": "code",
      "metadata": {
        "id": "HCPEm7Lap4D6",
        "colab_type": "code",
        "colab": {
          "base_uri": "https://localhost:8080/",
          "height": 1000
        },
        "outputId": "34bb805b-6c47-452c-d4ac-c6dc6296afd3"
      },
      "source": [
        "!zip -r train_mel_spectrogram_fear.zip train_mel_spectrogram_fear/"
      ],
      "execution_count": 34,
      "outputs": [
        {
          "output_type": "stream",
          "text": [
            "updating: train_mel_spectrogram_fear/ (stored 0%)\n",
            "  adding: train_mel_spectrogram_fear/MEL_dia476_utt10_negative_FEA_mfcc.jpg (deflated 6%)\n",
            "  adding: train_mel_spectrogram_fear/MEL_dia915_utt4_negative_FEA_mfcc.jpg (deflated 5%)\n",
            "  adding: train_mel_spectrogram_fear/MEL_dia679_utt12_negative_FEA_mfcc.jpg (deflated 5%)\n",
            "  adding: train_mel_spectrogram_fear/MEL_dia782_utt6_negative_FEA_mfcc.jpg (deflated 6%)\n",
            "  adding: train_mel_spectrogram_fear/MEL_dia264_utt8_negative_FEA_mfcc.jpg (deflated 5%)\n",
            "  adding: train_mel_spectrogram_fear/MEL_dia293_utt2_negative_FEA_mfcc.jpg (deflated 6%)\n",
            "  adding: train_mel_spectrogram_fear/MEL_dia743_utt3_negative_FEA_mfcc.jpg (deflated 4%)\n",
            "  adding: train_mel_spectrogram_fear/MEL_dia605_utt6_negative_FEA_mfcc.jpg (deflated 6%)\n",
            "  adding: train_mel_spectrogram_fear/MEL_dia572_utt17_negative_FEA_mfcc.jpg (deflated 30%)\n",
            "  adding: train_mel_spectrogram_fear/MEL_dia182_utt4_negative_FEA_mfcc.jpg (deflated 8%)\n",
            "  adding: train_mel_spectrogram_fear/MEL_dia695_utt3_negative_FEA_mfcc.jpg (deflated 9%)\n",
            "  adding: train_mel_spectrogram_fear/MEL_dia326_utt5_negative_FEA_mfcc.jpg (deflated 8%)\n",
            "  adding: train_mel_spectrogram_fear/MEL_dia473_utt3_negative_FEA_mfcc.jpg (deflated 4%)\n",
            "  adding: train_mel_spectrogram_fear/MEL_dia275_utt10_negative_FEA_mfcc.jpg (deflated 5%)\n",
            "  adding: train_mel_spectrogram_fear/MEL_dia798_utt3_negative_FEA_mfcc.jpg (deflated 8%)\n",
            "  adding: train_mel_spectrogram_fear/MEL_dia511_utt2_negative_FEA_mfcc.jpg (deflated 5%)\n",
            "  adding: train_mel_spectrogram_fear/MEL_dia526_utt6_negative_FEA_mfcc.jpg (deflated 6%)\n",
            "  adding: train_mel_spectrogram_fear/MEL_dia799_utt0_negative_FEA_mfcc.jpg (deflated 5%)\n",
            "  adding: train_mel_spectrogram_fear/MEL_dia789_utt5_negative_FEA_mfcc.jpg (deflated 7%)\n",
            "  adding: train_mel_spectrogram_fear/MEL_dia980_utt10_negative_FEA_mfcc.jpg (deflated 5%)\n",
            "  adding: train_mel_spectrogram_fear/MEL_dia366_utt13_negative_FEA_mfcc.jpg (deflated 7%)\n",
            "  adding: train_mel_spectrogram_fear/MEL_dia274_utt8_negative_FEA_mfcc.jpg (deflated 9%)\n",
            "  adding: train_mel_spectrogram_fear/MEL_dia735_utt0_negative_FEA_mfcc.jpg (deflated 5%)\n",
            "  adding: train_mel_spectrogram_fear/MEL_dia789_utt6_negative_FEA_mfcc.jpg (deflated 6%)\n",
            "  adding: train_mel_spectrogram_fear/MEL_dia1025_utt11_negative_FEA_mfcc.jpg (deflated 4%)\n",
            "  adding: train_mel_spectrogram_fear/MEL_dia782_utt4_negative_FEA_mfcc.jpg (deflated 6%)\n",
            "  adding: train_mel_spectrogram_fear/MEL_dia182_utt3_negative_FEA_mfcc.jpg (deflated 6%)\n",
            "  adding: train_mel_spectrogram_fear/MEL_dia584_utt9_negative_FEA_mfcc.jpg (deflated 8%)\n",
            "  adding: train_mel_spectrogram_fear/MEL_dia989_utt3_negative_FEA_mfcc.jpg (deflated 6%)\n",
            "  adding: train_mel_spectrogram_fear/MEL_dia544_utt1_negative_FEA_mfcc.jpg (deflated 10%)\n",
            "  adding: train_mel_spectrogram_fear/MEL_dia921_utt6_negative_FEA_mfcc.jpg (deflated 6%)\n",
            "  adding: train_mel_spectrogram_fear/MEL_dia223_utt1_negative_FEA_mfcc.jpg (deflated 6%)\n",
            "  adding: train_mel_spectrogram_fear/MEL_dia994_utt0_negative_FEA_mfcc.jpg (deflated 7%)\n",
            "  adding: train_mel_spectrogram_fear/MEL_dia1016_utt11_negative_FEA_mfcc.jpg (deflated 5%)\n",
            "  adding: train_mel_spectrogram_fear/MEL_dia177_utt5_negative_FEA_mfcc.jpg (deflated 4%)\n",
            "  adding: train_mel_spectrogram_fear/MEL_dia505_utt6_negative_FEA_mfcc.jpg (deflated 8%)\n",
            "  adding: train_mel_spectrogram_fear/MEL_dia953_utt10_negative_FEA_mfcc.jpg (deflated 11%)\n",
            "  adding: train_mel_spectrogram_fear/MEL_dia723_utt7_negative_FEA_mfcc.jpg (deflated 6%)\n",
            "  adding: train_mel_spectrogram_fear/MEL_dia860_utt2_negative_FEA_mfcc.jpg (deflated 5%)\n",
            "  adding: train_mel_spectrogram_fear/MEL_dia652_utt9_negative_FEA_mfcc.jpg (deflated 6%)\n",
            "  adding: train_mel_spectrogram_fear/MEL_dia801_utt5_negative_FEA_mfcc.jpg (deflated 6%)\n",
            "  adding: train_mel_spectrogram_fear/MEL_dia827_utt5_negative_FEA_mfcc.jpg (deflated 7%)\n",
            "  adding: train_mel_spectrogram_fear/MEL_dia767_utt6_negative_FEA_mfcc.jpg (deflated 5%)\n",
            "  adding: train_mel_spectrogram_fear/MEL_dia965_utt0_negative_FEA_mfcc.jpg (deflated 5%)\n",
            "  adding: train_mel_spectrogram_fear/MEL_dia130_utt11_negative_FEA_mfcc.jpg (deflated 6%)\n",
            "  adding: train_mel_spectrogram_fear/MEL_dia512_utt9_negative_FEA_mfcc.jpg (deflated 7%)\n",
            "  adding: train_mel_spectrogram_fear/MEL_dia782_utt8_negative_FEA_mfcc.jpg (deflated 6%)\n",
            "  adding: train_mel_spectrogram_fear/MEL_dia895_utt0_negative_FEA_mfcc.jpg (deflated 5%)\n",
            "  adding: train_mel_spectrogram_fear/MEL_dia841_utt0_negative_FEA_mfcc.jpg (deflated 6%)\n",
            "  adding: train_mel_spectrogram_fear/MEL_dia806_utt15_negative_FEA_mfcc.jpg (deflated 5%)\n",
            "  adding: train_mel_spectrogram_fear/MEL_dia168_utt8_negative_FEA_mfcc.jpg (deflated 5%)\n",
            "  adding: train_mel_spectrogram_fear/MEL_dia936_utt6_negative_FEA_mfcc.jpg (deflated 5%)\n",
            "  adding: train_mel_spectrogram_fear/MEL_dia796_utt5_negative_FEA_mfcc.jpg (deflated 5%)\n",
            "  adding: train_mel_spectrogram_fear/MEL_dia165_utt6_negative_FEA_mfcc.jpg (deflated 6%)\n",
            "  adding: train_mel_spectrogram_fear/MEL_dia789_utt3_negative_FEA_mfcc.jpg (deflated 6%)\n",
            "  adding: train_mel_spectrogram_fear/MEL_dia180_utt15_negative_FEA_mfcc.jpg (deflated 5%)\n",
            "  adding: train_mel_spectrogram_fear/MEL_dia526_utt11_negative_FEA_mfcc.jpg (deflated 11%)\n",
            "  adding: train_mel_spectrogram_fear/MEL_dia695_utt1_negative_FEA_mfcc.jpg (deflated 6%)\n",
            "  adding: train_mel_spectrogram_fear/MEL_dia445_utt3_negative_FEA_mfcc.jpg (deflated 5%)\n",
            "  adding: train_mel_spectrogram_fear/MEL_dia840_utt6_negative_FEA_mfcc.jpg (deflated 6%)\n",
            "  adding: train_mel_spectrogram_fear/MEL_dia799_utt1_negative_FEA_mfcc.jpg (deflated 4%)\n",
            "  adding: train_mel_spectrogram_fear/MEL_dia455_utt5_negative_FEA_mfcc.jpg (deflated 5%)\n",
            "  adding: train_mel_spectrogram_fear/MEL_dia782_utt9_negative_FEA_mfcc.jpg (deflated 6%)\n",
            "  adding: train_mel_spectrogram_fear/MEL_dia231_utt9_negative_FEA_mfcc.jpg (deflated 5%)\n",
            "  adding: train_mel_spectrogram_fear/MEL_dia583_utt6_negative_FEA_mfcc.jpg (deflated 5%)\n",
            "  adding: train_mel_spectrogram_fear/MEL_dia344_utt8_negative_FEA_mfcc.jpg (deflated 8%)\n",
            "  adding: train_mel_spectrogram_fear/MEL_dia223_utt3_negative_FEA_mfcc.jpg (deflated 5%)\n",
            "  adding: train_mel_spectrogram_fear/MEL_dia936_utt7_negative_FEA_mfcc.jpg (deflated 6%)\n",
            "  adding: train_mel_spectrogram_fear/MEL_dia867_utt2_negative_FEA_mfcc.jpg (deflated 8%)\n",
            "  adding: train_mel_spectrogram_fear/MEL_dia804_utt0_negative_FEA_mfcc.jpg (deflated 7%)\n",
            "  adding: train_mel_spectrogram_fear/MEL_dia421_utt7_negative_FEA_mfcc.jpg (deflated 5%)\n",
            "  adding: train_mel_spectrogram_fear/MEL_dia457_utt13_negative_FEA_mfcc.jpg (deflated 7%)\n",
            "  adding: train_mel_spectrogram_fear/MEL_dia939_utt3_negative_FEA_mfcc.jpg (deflated 7%)\n",
            "  adding: train_mel_spectrogram_fear/MEL_dia736_utt8_negative_FEA_mfcc.jpg (deflated 6%)\n",
            "  adding: train_mel_spectrogram_fear/MEL_dia989_utt4_negative_FEA_mfcc.jpg (deflated 9%)\n",
            "  adding: train_mel_spectrogram_fear/MEL_dia901_utt10_negative_FEA_mfcc.jpg (deflated 5%)\n",
            "  adding: train_mel_spectrogram_fear/MEL_dia460_utt2_negative_FEA_mfcc.jpg (deflated 6%)\n",
            "  adding: train_mel_spectrogram_fear/MEL_dia923_utt2_negative_FEA_mfcc.jpg (deflated 4%)\n",
            "  adding: train_mel_spectrogram_fear/MEL_dia336_utt8_negative_FEA_mfcc.jpg (deflated 5%)\n",
            "  adding: train_mel_spectrogram_fear/MEL_dia770_utt17_negative_FEA_mfcc.jpg (deflated 6%)\n",
            "  adding: train_mel_spectrogram_fear/MEL_dia531_utt2_negative_FEA_mfcc.jpg (deflated 6%)\n",
            "  adding: train_mel_spectrogram_fear/MEL_dia819_utt9_negative_FEA_mfcc.jpg (deflated 9%)\n",
            "  adding: train_mel_spectrogram_fear/MEL_dia911_utt1_negative_FEA_mfcc.jpg (deflated 5%)\n",
            "  adding: train_mel_spectrogram_fear/MEL_dia845_utt7_negative_FEA_mfcc.jpg (deflated 6%)\n",
            "  adding: train_mel_spectrogram_fear/MEL_dia976_utt12_negative_FEA_mfcc.jpg (deflated 5%)\n",
            "  adding: train_mel_spectrogram_fear/MEL_dia211_utt12_negative_FEA_mfcc.jpg (deflated 7%)\n",
            "  adding: train_mel_spectrogram_fear/MEL_dia184_utt6_negative_FEA_mfcc.jpg (deflated 4%)\n",
            "  adding: train_mel_spectrogram_fear/MEL_dia301_utt2_negative_FEA_mfcc.jpg (deflated 7%)\n",
            "  adding: train_mel_spectrogram_fear/MEL_dia302_utt2_negative_FEA_mfcc.jpg (deflated 5%)\n",
            "  adding: train_mel_spectrogram_fear/MEL_dia590_utt7_negative_FEA_mfcc.jpg (deflated 5%)\n",
            "  adding: train_mel_spectrogram_fear/MEL_dia720_utt15_negative_FEA_mfcc.jpg (deflated 6%)\n",
            "  adding: train_mel_spectrogram_fear/MEL_dia221_utt5_negative_FEA_mfcc.jpg (deflated 7%)\n",
            "  adding: train_mel_spectrogram_fear/MEL_dia375_utt4_negative_FEA_mfcc.jpg (deflated 5%)\n",
            "  adding: train_mel_spectrogram_fear/MEL_dia608_utt5_negative_FEA_mfcc.jpg (deflated 6%)\n",
            "  adding: train_mel_spectrogram_fear/MEL_dia250_utt0_negative_FEA_mfcc.jpg (deflated 4%)\n",
            "  adding: train_mel_spectrogram_fear/MEL_dia558_utt4_negative_FEA_mfcc.jpg (deflated 6%)\n",
            "  adding: train_mel_spectrogram_fear/MEL_dia800_utt0_negative_FEA_mfcc.jpg (deflated 7%)\n",
            "  adding: train_mel_spectrogram_fear/MEL_dia886_utt15_negative_FEA_mfcc.jpg (deflated 6%)\n",
            "  adding: train_mel_spectrogram_fear/MEL_dia275_utt15_negative_FEA_mfcc.jpg (deflated 4%)\n",
            "  adding: train_mel_spectrogram_fear/MEL_dia921_utt1_negative_FEA_mfcc.jpg (deflated 5%)\n",
            "  adding: train_mel_spectrogram_fear/MEL_dia989_utt10_negative_FEA_mfcc.jpg (deflated 7%)\n",
            "  adding: train_mel_spectrogram_fear/MEL_dia496_utt11_negative_FEA_mfcc.jpg (deflated 6%)\n",
            "  adding: train_mel_spectrogram_fear/MEL_dia351_utt4_negative_FEA_mfcc.jpg (deflated 5%)\n",
            "  adding: train_mel_spectrogram_fear/MEL_dia908_utt0_negative_FEA_mfcc.jpg (deflated 8%)\n",
            "  adding: train_mel_spectrogram_fear/MEL_dia569_utt0_negative_FEA_mfcc.jpg (deflated 5%)\n",
            "  adding: train_mel_spectrogram_fear/MEL_dia411_utt1_negative_FEA_mfcc.jpg (deflated 5%)\n",
            "  adding: train_mel_spectrogram_fear/MEL_dia811_utt9_negative_FEA_mfcc.jpg (deflated 6%)\n",
            "  adding: train_mel_spectrogram_fear/MEL_dia945_utt7_negative_FEA_mfcc.jpg (deflated 6%)\n",
            "  adding: train_mel_spectrogram_fear/MEL_dia476_utt7_negative_FEA_mfcc.jpg (deflated 6%)\n",
            "  adding: train_mel_spectrogram_fear/MEL_dia410_utt17_negative_FEA_mfcc.jpg (deflated 6%)\n",
            "  adding: train_mel_spectrogram_fear/MEL_dia744_utt8_negative_FEA_mfcc.jpg (deflated 6%)\n",
            "  adding: train_mel_spectrogram_fear/MEL_dia796_utt14_negative_FEA_mfcc.jpg (deflated 11%)\n",
            "  adding: train_mel_spectrogram_fear/MEL_dia658_utt4_negative_FEA_mfcc.jpg (deflated 9%)\n",
            "  adding: train_mel_spectrogram_fear/MEL_dia178_utt6_negative_FEA_mfcc.jpg (deflated 6%)\n",
            "  adding: train_mel_spectrogram_fear/MEL_dia564_utt6_negative_FEA_mfcc.jpg (deflated 6%)\n",
            "  adding: train_mel_spectrogram_fear/MEL_dia576_utt0_negative_FEA_mfcc.jpg (deflated 6%)\n",
            "  adding: train_mel_spectrogram_fear/MEL_dia760_utt2_negative_FEA_mfcc.jpg (deflated 5%)\n",
            "  adding: train_mel_spectrogram_fear/MEL_dia301_utt15_negative_FEA_mfcc.jpg (deflated 5%)\n",
            "  adding: train_mel_spectrogram_fear/MEL_dia915_utt7_negative_FEA_mfcc.jpg (deflated 6%)\n",
            "  adding: train_mel_spectrogram_fear/MEL_dia769_utt1_negative_FEA_mfcc.jpg (deflated 5%)\n",
            "  adding: train_mel_spectrogram_fear/MEL_dia460_utt0_negative_FEA_mfcc.jpg (deflated 8%)\n",
            "  adding: train_mel_spectrogram_fear/MEL_dia907_utt12_negative_FEA_mfcc.jpg (deflated 7%)\n",
            "  adding: train_mel_spectrogram_fear/MEL_dia1018_utt1_negative_FEA_mfcc.jpg (deflated 6%)\n",
            "  adding: train_mel_spectrogram_fear/MEL_dia153_utt11_negative_FEA_mfcc.jpg (deflated 5%)\n",
            "  adding: train_mel_spectrogram_fear/MEL_dia506_utt1_negative_FEA_mfcc.jpg (deflated 6%)\n",
            "  adding: train_mel_spectrogram_fear/MEL_dia496_utt8_negative_FEA_mfcc.jpg (deflated 8%)\n",
            "  adding: train_mel_spectrogram_fear/MEL_dia148_utt15_negative_FEA_mfcc.jpg (deflated 6%)\n",
            "  adding: train_mel_spectrogram_fear/MEL_dia508_utt5_negative_FEA_mfcc.jpg (deflated 13%)\n",
            "  adding: train_mel_spectrogram_fear/MEL_dia666_utt8_negative_FEA_mfcc.jpg (deflated 5%)\n",
            "  adding: train_mel_spectrogram_fear/MEL_dia712_utt2_negative_FEA_mfcc.jpg (deflated 5%)\n",
            "  adding: train_mel_spectrogram_fear/MEL_dia274_utt10_negative_FEA_mfcc.jpg (deflated 4%)\n",
            "  adding: train_mel_spectrogram_fear/MEL_dia720_utt0_negative_FEA_mfcc.jpg (deflated 8%)\n",
            "  adding: train_mel_spectrogram_fear/MEL_dia245_utt4_negative_FEA_mfcc.jpg (deflated 6%)\n",
            "  adding: train_mel_spectrogram_fear/MEL_dia388_utt7_negative_FEA_mfcc.jpg (deflated 5%)\n",
            "  adding: train_mel_spectrogram_fear/MEL_dia351_utt6_negative_FEA_mfcc.jpg (deflated 5%)\n",
            "  adding: train_mel_spectrogram_fear/MEL_dia275_utt5_negative_FEA_mfcc.jpg (deflated 5%)\n",
            "  adding: train_mel_spectrogram_fear/MEL_dia301_utt0_negative_FEA_mfcc.jpg (deflated 5%)\n",
            "  adding: train_mel_spectrogram_fear/MEL_dia854_utt0_negative_FEA_mfcc.jpg (deflated 6%)\n",
            "  adding: train_mel_spectrogram_fear/MEL_dia632_utt1_negative_FEA_mfcc.jpg (deflated 8%)\n",
            "  adding: train_mel_spectrogram_fear/MEL_dia177_utt3_negative_FEA_mfcc.jpg (deflated 4%)\n",
            "  adding: train_mel_spectrogram_fear/MEL_dia274_utt12_negative_FEA_mfcc.jpg (deflated 9%)\n",
            "  adding: train_mel_spectrogram_fear/MEL_dia143_utt5_negative_FEA_mfcc.jpg (deflated 6%)\n",
            "  adding: train_mel_spectrogram_fear/MEL_dia557_utt4_negative_FEA_mfcc.jpg (deflated 5%)\n",
            "  adding: train_mel_spectrogram_fear/MEL_dia612_utt1_negative_FEA_mfcc.jpg (deflated 9%)\n",
            "  adding: train_mel_spectrogram_fear/MEL_dia133_utt15_negative_FEA_mfcc.jpg (deflated 7%)\n",
            "  adding: train_mel_spectrogram_fear/MEL_dia524_utt15_negative_FEA_mfcc.jpg (deflated 5%)\n",
            "  adding: train_mel_spectrogram_fear/MEL_dia257_utt6_negative_FEA_mfcc.jpg (deflated 7%)\n",
            "  adding: train_mel_spectrogram_fear/MEL_dia844_utt6_negative_FEA_mfcc.jpg (deflated 5%)\n",
            "  adding: train_mel_spectrogram_fear/MEL_dia376_utt3_negative_FEA_mfcc.jpg (deflated 5%)\n",
            "  adding: train_mel_spectrogram_fear/MEL_dia482_utt5_negative_FEA_mfcc.jpg (deflated 10%)\n",
            "  adding: train_mel_spectrogram_fear/MEL_dia869_utt8_negative_FEA_mfcc.jpg (deflated 5%)\n",
            "  adding: train_mel_spectrogram_fear/MEL_dia596_utt11_negative_FEA_mfcc.jpg (deflated 5%)\n",
            "  adding: train_mel_spectrogram_fear/MEL_dia916_utt12_negative_FEA_mfcc.jpg (deflated 4%)\n",
            "  adding: train_mel_spectrogram_fear/MEL_dia486_utt11_negative_FEA_mfcc.jpg (deflated 5%)\n",
            "  adding: train_mel_spectrogram_fear/MEL_dia810_utt3_negative_FEA_mfcc.jpg (deflated 6%)\n",
            "  adding: train_mel_spectrogram_fear/MEL_dia869_utt5_negative_FEA_mfcc.jpg (deflated 7%)\n",
            "  adding: train_mel_spectrogram_fear/MEL_dia289_utt1_negative_FEA_mfcc.jpg (deflated 5%)\n",
            "  adding: train_mel_spectrogram_fear/MEL_dia827_utt13_negative_FEA_mfcc.jpg (deflated 5%)\n",
            "  adding: train_mel_spectrogram_fear/MEL_dia989_utt11_negative_FEA_mfcc.jpg (deflated 8%)\n",
            "  adding: train_mel_spectrogram_fear/MEL_dia227_utt0_negative_FEA_mfcc.jpg (deflated 5%)\n",
            "  adding: train_mel_spectrogram_fear/MEL_dia185_utt12_negative_FEA_mfcc.jpg (deflated 7%)\n",
            "  adding: train_mel_spectrogram_fear/MEL_dia358_utt6_negative_FEA_mfcc.jpg (deflated 5%)\n",
            "  adding: train_mel_spectrogram_fear/MEL_dia421_utt3_negative_FEA_mfcc.jpg (deflated 6%)\n",
            "  adding: train_mel_spectrogram_fear/MEL_dia672_utt9_negative_FEA_mfcc.jpg (deflated 6%)\n",
            "  adding: train_mel_spectrogram_fear/MEL_dia623_utt1_negative_FEA_mfcc.jpg (deflated 27%)\n",
            "  adding: train_mel_spectrogram_fear/MEL_dia736_utt10_negative_FEA_mfcc.jpg (deflated 7%)\n",
            "  adding: train_mel_spectrogram_fear/MEL_dia477_utt3_negative_FEA_mfcc.jpg (deflated 6%)\n",
            "  adding: train_mel_spectrogram_fear/MEL_dia844_utt20_negative_FEA_mfcc.jpg (deflated 4%)\n",
            "  adding: train_mel_spectrogram_fear/MEL_dia257_utt5_negative_FEA_mfcc.jpg (deflated 28%)\n",
            "  adding: train_mel_spectrogram_fear/MEL_dia1018_utt7_negative_FEA_mfcc.jpg (deflated 5%)\n",
            "  adding: train_mel_spectrogram_fear/MEL_dia932_utt5_negative_FEA_mfcc.jpg (deflated 5%)\n",
            "  adding: train_mel_spectrogram_fear/MEL_dia641_utt1_negative_FEA_mfcc.jpg (deflated 5%)\n",
            "  adding: train_mel_spectrogram_fear/MEL_dia574_utt14_negative_FEA_mfcc.jpg (deflated 6%)\n",
            "  adding: train_mel_spectrogram_fear/MEL_dia217_utt6_negative_FEA_mfcc.jpg (deflated 6%)\n",
            "  adding: train_mel_spectrogram_fear/MEL_dia301_utt1_negative_FEA_mfcc.jpg (deflated 6%)\n",
            "  adding: train_mel_spectrogram_fear/MEL_dia604_utt10_negative_FEA_mfcc.jpg (deflated 6%)\n",
            "  adding: train_mel_spectrogram_fear/MEL_dia736_utt9_negative_FEA_mfcc.jpg (deflated 6%)\n",
            "  adding: train_mel_spectrogram_fear/MEL_dia271_utt3_negative_FEA_mfcc.jpg (deflated 5%)\n",
            "  adding: train_mel_spectrogram_fear/MEL_dia421_utt5_negative_FEA_mfcc.jpg (deflated 7%)\n",
            "  adding: train_mel_spectrogram_fear/MEL_dia788_utt0_negative_FEA_mfcc.jpg (deflated 5%)\n",
            "  adding: train_mel_spectrogram_fear/MEL_dia316_utt4_negative_FEA_mfcc.jpg (deflated 5%)\n",
            "  adding: train_mel_spectrogram_fear/MEL_dia915_utt3_negative_FEA_mfcc.jpg (deflated 6%)\n",
            "  adding: train_mel_spectrogram_fear/MEL_dia195_utt0_negative_FEA_mfcc.jpg (deflated 6%)\n",
            "  adding: train_mel_spectrogram_fear/MEL_dia633_utt7_negative_FEA_mfcc.jpg (deflated 7%)\n",
            "  adding: train_mel_spectrogram_fear/MEL_dia472_utt2_negative_FEA_mfcc.jpg (deflated 5%)\n",
            "  adding: train_mel_spectrogram_fear/MEL_dia205_utt3_negative_FEA_mfcc.jpg (deflated 4%)\n",
            "  adding: train_mel_spectrogram_fear/MEL_dia293_utt4_negative_FEA_mfcc.jpg (deflated 5%)\n",
            "  adding: train_mel_spectrogram_fear/MEL_dia612_utt5_negative_FEA_mfcc.jpg (deflated 5%)\n",
            "  adding: train_mel_spectrogram_fear/MEL_dia421_utt4_negative_FEA_mfcc.jpg (deflated 7%)\n",
            "  adding: train_mel_spectrogram_fear/MEL_dia810_utt4_negative_FEA_mfcc.jpg (deflated 7%)\n",
            "  adding: train_mel_spectrogram_fear/MEL_dia997_utt7_negative_FEA_mfcc.jpg (deflated 5%)\n",
            "  adding: train_mel_spectrogram_fear/MEL_dia774_utt2_negative_FEA_mfcc.jpg (deflated 6%)\n",
            "  adding: train_mel_spectrogram_fear/MEL_dia810_utt2_negative_FEA_mfcc.jpg (deflated 8%)\n",
            "  adding: train_mel_spectrogram_fear/MEL_dia153_utt4_negative_FEA_mfcc.jpg (deflated 7%)\n",
            "  adding: train_mel_spectrogram_fear/MEL_dia383_utt4_negative_FEA_mfcc.jpg (deflated 5%)\n",
            "  adding: train_mel_spectrogram_fear/MEL_dia645_utt8_negative_FEA_mfcc.jpg (deflated 5%)\n",
            "  adding: train_mel_spectrogram_fear/MEL_dia571_utt1_negative_FEA_mfcc.jpg (deflated 5%)\n",
            "  adding: train_mel_spectrogram_fear/MEL_dia356_utt20_negative_FEA_mfcc.jpg (deflated 7%)\n",
            "  adding: train_mel_spectrogram_fear/MEL_dia989_utt8_negative_FEA_mfcc.jpg (deflated 9%)\n",
            "  adding: train_mel_spectrogram_fear/MEL_dia915_utt9_negative_FEA_mfcc.jpg (deflated 7%)\n",
            "  adding: train_mel_spectrogram_fear/MEL_dia855_utt7_negative_FEA_mfcc.jpg (deflated 5%)\n",
            "  adding: train_mel_spectrogram_fear/MEL_dia673_utt20_negative_FEA_mfcc.jpg (deflated 5%)\n",
            "  adding: train_mel_spectrogram_fear/MEL_dia654_utt2_negative_FEA_mfcc.jpg (deflated 5%)\n",
            "  adding: train_mel_spectrogram_fear/MEL_dia263_utt4_negative_FEA_mfcc.jpg (deflated 6%)\n",
            "  adding: train_mel_spectrogram_fear/MEL_dia574_utt15_negative_FEA_mfcc.jpg (deflated 5%)\n",
            "  adding: train_mel_spectrogram_fear/MEL_dia676_utt4_negative_FEA_mfcc.jpg (deflated 8%)\n",
            "  adding: train_mel_spectrogram_fear/MEL_dia572_utt9_negative_FEA_mfcc.jpg (deflated 5%)\n",
            "  adding: train_mel_spectrogram_fear/MEL_dia445_utt12_negative_FEA_mfcc.jpg (deflated 7%)\n",
            "  adding: train_mel_spectrogram_fear/MEL_dia796_utt12_negative_FEA_mfcc.jpg (deflated 6%)\n",
            "  adding: train_mel_spectrogram_fear/MEL_dia305_utt2_negative_FEA_mfcc.jpg (deflated 8%)\n",
            "  adding: train_mel_spectrogram_fear/MEL_dia175_utt4_negative_FEA_mfcc.jpg (deflated 5%)\n",
            "  adding: train_mel_spectrogram_fear/MEL_dia301_utt4_negative_FEA_mfcc.jpg (deflated 7%)\n",
            "  adding: train_mel_spectrogram_fear/MEL_dia595_utt6_negative_FEA_mfcc.jpg (deflated 6%)\n",
            "  adding: train_mel_spectrogram_fear/MEL_dia512_utt13_negative_FEA_mfcc.jpg (deflated 4%)\n",
            "  adding: train_mel_spectrogram_fear/MEL_dia300_utt12_negative_FEA_mfcc.jpg (deflated 7%)\n",
            "  adding: train_mel_spectrogram_fear/MEL_dia809_utt15_negative_FEA_mfcc.jpg (deflated 5%)\n"
          ],
          "name": "stdout"
        }
      ]
    },
    {
      "cell_type": "code",
      "metadata": {
        "id": "1oScMBbVPVr6",
        "colab_type": "code",
        "colab": {
          "base_uri": "https://localhost:8080/",
          "height": 1000
        },
        "outputId": "e386188f-6dbe-4bb1-ef0e-635867b0a6de"
      },
      "source": [
        "!zip -r train_mfcc_fear.zip train_mfcc_fear/"
      ],
      "execution_count": 35,
      "outputs": [
        {
          "output_type": "stream",
          "text": [
            "updating: train_mfcc_fear/ (stored 0%)\n",
            "  adding: train_mfcc_fear/MEL_dia1018_utt7_negative_FEA_mel.jpg (deflated 2%)\n",
            "  adding: train_mfcc_fear/MEL_dia148_utt15_negative_FEA_mel.jpg (deflated 2%)\n",
            "  adding: train_mfcc_fear/MEL_dia994_utt0_negative_FEA_mel.jpg (deflated 2%)\n",
            "  adding: train_mfcc_fear/MEL_dia211_utt12_negative_FEA_mel.jpg (deflated 2%)\n",
            "  adding: train_mfcc_fear/MEL_dia223_utt3_negative_FEA_mel.jpg (deflated 2%)\n",
            "  adding: train_mfcc_fear/MEL_dia945_utt7_negative_FEA_mel.jpg (deflated 2%)\n",
            "  adding: train_mfcc_fear/MEL_dia854_utt0_negative_FEA_mel.jpg (deflated 2%)\n",
            "  adding: train_mfcc_fear/MEL_dia505_utt6_negative_FEA_mel.jpg (deflated 2%)\n",
            "  adding: train_mfcc_fear/MEL_dia845_utt7_negative_FEA_mel.jpg (deflated 2%)\n",
            "  adding: train_mfcc_fear/MEL_dia908_utt0_negative_FEA_mel.jpg (deflated 2%)\n",
            "  adding: train_mfcc_fear/MEL_dia827_utt5_negative_FEA_mel.jpg (deflated 2%)\n",
            "  adding: train_mfcc_fear/MEL_dia976_utt12_negative_FEA_mel.jpg (deflated 2%)\n",
            "  adding: train_mfcc_fear/MEL_dia789_utt5_negative_FEA_mel.jpg (deflated 2%)\n",
            "  adding: train_mfcc_fear/MEL_dia558_utt4_negative_FEA_mel.jpg (deflated 2%)\n",
            "  adding: train_mfcc_fear/MEL_dia633_utt7_negative_FEA_mel.jpg (deflated 2%)\n",
            "  adding: train_mfcc_fear/MEL_dia810_utt4_negative_FEA_mel.jpg (deflated 2%)\n",
            "  adding: train_mfcc_fear/MEL_dia743_utt3_negative_FEA_mel.jpg (deflated 2%)\n",
            "  adding: train_mfcc_fear/MEL_dia421_utt4_negative_FEA_mel.jpg (deflated 2%)\n",
            "  adding: train_mfcc_fear/MEL_dia915_utt4_negative_FEA_mel.jpg (deflated 2%)\n",
            "  adding: train_mfcc_fear/MEL_dia612_utt1_negative_FEA_mel.jpg (deflated 4%)\n",
            "  adding: train_mfcc_fear/MEL_dia445_utt3_negative_FEA_mel.jpg (deflated 2%)\n",
            "  adding: train_mfcc_fear/MEL_dia301_utt1_negative_FEA_mel.jpg (deflated 2%)\n",
            "  adding: train_mfcc_fear/MEL_dia608_utt5_negative_FEA_mel.jpg (deflated 2%)\n",
            "  adding: train_mfcc_fear/MEL_dia457_utt13_negative_FEA_mel.jpg (deflated 2%)\n",
            "  adding: train_mfcc_fear/MEL_dia275_utt15_negative_FEA_mel.jpg (deflated 2%)\n",
            "  adding: train_mfcc_fear/MEL_dia476_utt10_negative_FEA_mel.jpg (deflated 2%)\n",
            "  adding: train_mfcc_fear/MEL_dia796_utt14_negative_FEA_mel.jpg (deflated 5%)\n",
            "  adding: train_mfcc_fear/MEL_dia526_utt6_negative_FEA_mel.jpg (deflated 2%)\n",
            "  adding: train_mfcc_fear/MEL_dia271_utt3_negative_FEA_mel.jpg (deflated 2%)\n",
            "  adding: train_mfcc_fear/MEL_dia652_utt9_negative_FEA_mel.jpg (deflated 2%)\n",
            "  adding: train_mfcc_fear/MEL_dia293_utt4_negative_FEA_mel.jpg (deflated 2%)\n",
            "  adding: train_mfcc_fear/MEL_dia760_utt2_negative_FEA_mel.jpg (deflated 2%)\n",
            "  adding: train_mfcc_fear/MEL_dia965_utt0_negative_FEA_mel.jpg (deflated 2%)\n",
            "  adding: train_mfcc_fear/MEL_dia720_utt0_negative_FEA_mel.jpg (deflated 2%)\n",
            "  adding: train_mfcc_fear/MEL_dia596_utt11_negative_FEA_mel.jpg (deflated 2%)\n",
            "  adding: train_mfcc_fear/MEL_dia801_utt5_negative_FEA_mel.jpg (deflated 2%)\n",
            "  adding: train_mfcc_fear/MEL_dia223_utt1_negative_FEA_mel.jpg (deflated 2%)\n",
            "  adding: train_mfcc_fear/MEL_dia907_utt12_negative_FEA_mel.jpg (deflated 2%)\n",
            "  adding: train_mfcc_fear/MEL_dia421_utt3_negative_FEA_mel.jpg (deflated 2%)\n",
            "  adding: train_mfcc_fear/MEL_dia572_utt17_negative_FEA_mel.jpg (deflated 23%)\n",
            "  adding: train_mfcc_fear/MEL_dia421_utt7_negative_FEA_mel.jpg (deflated 2%)\n",
            "  adding: train_mfcc_fear/MEL_dia512_utt13_negative_FEA_mel.jpg (deflated 2%)\n",
            "  adding: train_mfcc_fear/MEL_dia205_utt3_negative_FEA_mel.jpg (deflated 2%)\n",
            "  adding: train_mfcc_fear/MEL_dia182_utt3_negative_FEA_mel.jpg (deflated 2%)\n",
            "  adding: train_mfcc_fear/MEL_dia623_utt1_negative_FEA_mel.jpg (deflated 22%)\n",
            "  adding: train_mfcc_fear/MEL_dia923_utt2_negative_FEA_mel.jpg (deflated 2%)\n",
            "  adding: train_mfcc_fear/MEL_dia383_utt4_negative_FEA_mel.jpg (deflated 2%)\n",
            "  adding: train_mfcc_fear/MEL_dia788_utt0_negative_FEA_mel.jpg (deflated 2%)\n",
            "  adding: train_mfcc_fear/MEL_dia782_utt8_negative_FEA_mel.jpg (deflated 2%)\n",
            "  adding: train_mfcc_fear/MEL_dia723_utt7_negative_FEA_mel.jpg (deflated 2%)\n",
            "  adding: train_mfcc_fear/MEL_dia796_utt5_negative_FEA_mel.jpg (deflated 2%)\n",
            "  adding: train_mfcc_fear/MEL_dia767_utt6_negative_FEA_mel.jpg (deflated 2%)\n",
            "  adding: train_mfcc_fear/MEL_dia531_utt2_negative_FEA_mel.jpg (deflated 2%)\n",
            "  adding: train_mfcc_fear/MEL_dia584_utt9_negative_FEA_mel.jpg (deflated 3%)\n",
            "  adding: train_mfcc_fear/MEL_dia810_utt3_negative_FEA_mel.jpg (deflated 2%)\n",
            "  adding: train_mfcc_fear/MEL_dia989_utt8_negative_FEA_mel.jpg (deflated 3%)\n",
            "  adding: train_mfcc_fear/MEL_dia133_utt15_negative_FEA_mel.jpg (deflated 2%)\n",
            "  adding: train_mfcc_fear/MEL_dia482_utt5_negative_FEA_mel.jpg (deflated 3%)\n",
            "  adding: train_mfcc_fear/MEL_dia641_utt1_negative_FEA_mel.jpg (deflated 2%)\n",
            "  adding: train_mfcc_fear/MEL_dia789_utt6_negative_FEA_mel.jpg (deflated 2%)\n",
            "  adding: train_mfcc_fear/MEL_dia506_utt1_negative_FEA_mel.jpg (deflated 2%)\n",
            "  adding: train_mfcc_fear/MEL_dia911_utt1_negative_FEA_mel.jpg (deflated 2%)\n",
            "  adding: train_mfcc_fear/MEL_dia250_utt0_negative_FEA_mel.jpg (deflated 2%)\n",
            "  adding: train_mfcc_fear/MEL_dia720_utt15_negative_FEA_mel.jpg (deflated 2%)\n",
            "  adding: train_mfcc_fear/MEL_dia257_utt5_negative_FEA_mel.jpg (deflated 23%)\n",
            "  adding: train_mfcc_fear/MEL_dia679_utt12_negative_FEA_mel.jpg (deflated 2%)\n",
            "  adding: train_mfcc_fear/MEL_dia774_utt2_negative_FEA_mel.jpg (deflated 2%)\n",
            "  adding: train_mfcc_fear/MEL_dia257_utt6_negative_FEA_mel.jpg (deflated 2%)\n",
            "  adding: train_mfcc_fear/MEL_dia840_utt6_negative_FEA_mel.jpg (deflated 2%)\n",
            "  adding: train_mfcc_fear/MEL_dia336_utt8_negative_FEA_mel.jpg (deflated 2%)\n",
            "  adding: train_mfcc_fear/MEL_dia712_utt2_negative_FEA_mel.jpg (deflated 2%)\n",
            "  adding: train_mfcc_fear/MEL_dia275_utt10_negative_FEA_mel.jpg (deflated 2%)\n",
            "  adding: train_mfcc_fear/MEL_dia421_utt5_negative_FEA_mel.jpg (deflated 2%)\n",
            "  adding: train_mfcc_fear/MEL_dia274_utt8_negative_FEA_mel.jpg (deflated 3%)\n",
            "  adding: train_mfcc_fear/MEL_dia472_utt2_negative_FEA_mel.jpg (deflated 2%)\n",
            "  adding: train_mfcc_fear/MEL_dia375_utt4_negative_FEA_mel.jpg (deflated 2%)\n",
            "  adding: train_mfcc_fear/MEL_dia168_utt8_negative_FEA_mel.jpg (deflated 2%)\n",
            "  adding: train_mfcc_fear/MEL_dia195_utt0_negative_FEA_mel.jpg (deflated 2%)\n",
            "  adding: train_mfcc_fear/MEL_dia572_utt9_negative_FEA_mel.jpg (deflated 2%)\n",
            "  adding: train_mfcc_fear/MEL_dia511_utt2_negative_FEA_mel.jpg (deflated 2%)\n",
            "  adding: train_mfcc_fear/MEL_dia411_utt1_negative_FEA_mel.jpg (deflated 2%)\n",
            "  adding: train_mfcc_fear/MEL_dia301_utt4_negative_FEA_mel.jpg (deflated 2%)\n",
            "  adding: train_mfcc_fear/MEL_dia605_utt6_negative_FEA_mel.jpg (deflated 2%)\n",
            "  adding: train_mfcc_fear/MEL_dia809_utt15_negative_FEA_mel.jpg (deflated 2%)\n",
            "  adding: train_mfcc_fear/MEL_dia496_utt11_negative_FEA_mel.jpg (deflated 2%)\n",
            "  adding: train_mfcc_fear/MEL_dia275_utt5_negative_FEA_mel.jpg (deflated 2%)\n",
            "  adding: train_mfcc_fear/MEL_dia569_utt0_negative_FEA_mel.jpg (deflated 2%)\n",
            "  adding: train_mfcc_fear/MEL_dia915_utt9_negative_FEA_mel.jpg (deflated 2%)\n",
            "  adding: train_mfcc_fear/MEL_dia590_utt7_negative_FEA_mel.jpg (deflated 2%)\n",
            "  adding: train_mfcc_fear/MEL_dia351_utt6_negative_FEA_mel.jpg (deflated 2%)\n",
            "  adding: train_mfcc_fear/MEL_dia936_utt7_negative_FEA_mel.jpg (deflated 2%)\n",
            "  adding: train_mfcc_fear/MEL_dia1018_utt1_negative_FEA_mel.jpg (deflated 2%)\n",
            "  adding: train_mfcc_fear/MEL_dia460_utt2_negative_FEA_mel.jpg (deflated 2%)\n",
            "  adding: train_mfcc_fear/MEL_dia915_utt3_negative_FEA_mel.jpg (deflated 2%)\n",
            "  adding: train_mfcc_fear/MEL_dia895_utt0_negative_FEA_mel.jpg (deflated 2%)\n",
            "  adding: train_mfcc_fear/MEL_dia799_utt1_negative_FEA_mel.jpg (deflated 2%)\n",
            "  adding: train_mfcc_fear/MEL_dia672_utt9_negative_FEA_mel.jpg (deflated 2%)\n",
            "  adding: train_mfcc_fear/MEL_dia574_utt15_negative_FEA_mel.jpg (deflated 2%)\n",
            "  adding: train_mfcc_fear/MEL_dia486_utt11_negative_FEA_mel.jpg (deflated 2%)\n",
            "  adding: train_mfcc_fear/MEL_dia557_utt4_negative_FEA_mel.jpg (deflated 2%)\n",
            "  adding: train_mfcc_fear/MEL_dia901_utt10_negative_FEA_mel.jpg (deflated 2%)\n",
            "  adding: train_mfcc_fear/MEL_dia800_utt0_negative_FEA_mel.jpg (deflated 2%)\n",
            "  adding: train_mfcc_fear/MEL_dia293_utt2_negative_FEA_mel.jpg (deflated 2%)\n",
            "  adding: train_mfcc_fear/MEL_dia844_utt6_negative_FEA_mel.jpg (deflated 2%)\n",
            "  adding: train_mfcc_fear/MEL_dia735_utt0_negative_FEA_mel.jpg (deflated 2%)\n",
            "  adding: train_mfcc_fear/MEL_dia736_utt8_negative_FEA_mel.jpg (deflated 2%)\n",
            "  adding: train_mfcc_fear/MEL_dia936_utt6_negative_FEA_mel.jpg (deflated 2%)\n",
            "  adding: train_mfcc_fear/MEL_dia153_utt4_negative_FEA_mel.jpg (deflated 2%)\n",
            "  adding: train_mfcc_fear/MEL_dia524_utt15_negative_FEA_mel.jpg (deflated 2%)\n",
            "  adding: train_mfcc_fear/MEL_dia789_utt3_negative_FEA_mel.jpg (deflated 2%)\n",
            "  adding: train_mfcc_fear/MEL_dia604_utt10_negative_FEA_mel.jpg (deflated 2%)\n",
            "  adding: train_mfcc_fear/MEL_dia185_utt12_negative_FEA_mel.jpg (deflated 2%)\n",
            "  adding: train_mfcc_fear/MEL_dia583_utt6_negative_FEA_mel.jpg (deflated 2%)\n",
            "  adding: train_mfcc_fear/MEL_dia810_utt2_negative_FEA_mel.jpg (deflated 3%)\n",
            "  adding: train_mfcc_fear/MEL_dia302_utt2_negative_FEA_mel.jpg (deflated 2%)\n",
            "  adding: train_mfcc_fear/MEL_dia744_utt8_negative_FEA_mel.jpg (deflated 2%)\n",
            "  adding: train_mfcc_fear/MEL_dia841_utt0_negative_FEA_mel.jpg (deflated 2%)\n",
            "  adding: train_mfcc_fear/MEL_dia827_utt13_negative_FEA_mel.jpg (deflated 2%)\n",
            "  adding: train_mfcc_fear/MEL_dia344_utt8_negative_FEA_mel.jpg (deflated 2%)\n",
            "  adding: train_mfcc_fear/MEL_dia915_utt7_negative_FEA_mel.jpg (deflated 2%)\n",
            "  adding: train_mfcc_fear/MEL_dia473_utt3_negative_FEA_mel.jpg (deflated 2%)\n",
            "  adding: train_mfcc_fear/MEL_dia804_utt0_negative_FEA_mel.jpg (deflated 2%)\n",
            "  adding: train_mfcc_fear/MEL_dia305_utt2_negative_FEA_mel.jpg (deflated 2%)\n",
            "  adding: train_mfcc_fear/MEL_dia221_utt5_negative_FEA_mel.jpg (deflated 2%)\n",
            "  adding: train_mfcc_fear/MEL_dia274_utt12_negative_FEA_mel.jpg (deflated 4%)\n",
            "  adding: train_mfcc_fear/MEL_dia410_utt17_negative_FEA_mel.jpg (deflated 2%)\n",
            "  adding: train_mfcc_fear/MEL_dia512_utt9_negative_FEA_mel.jpg (deflated 2%)\n",
            "  adding: train_mfcc_fear/MEL_dia844_utt20_negative_FEA_mel.jpg (deflated 2%)\n",
            "  adding: train_mfcc_fear/MEL_dia526_utt11_negative_FEA_mel.jpg (deflated 5%)\n",
            "  adding: train_mfcc_fear/MEL_dia953_utt10_negative_FEA_mel.jpg (deflated 5%)\n",
            "  adding: train_mfcc_fear/MEL_dia799_utt0_negative_FEA_mel.jpg (deflated 2%)\n",
            "  adding: train_mfcc_fear/MEL_dia460_utt0_negative_FEA_mel.jpg (deflated 2%)\n",
            "  adding: train_mfcc_fear/MEL_dia695_utt3_negative_FEA_mel.jpg (deflated 4%)\n",
            "  adding: train_mfcc_fear/MEL_dia388_utt7_negative_FEA_mel.jpg (deflated 2%)\n",
            "  adding: train_mfcc_fear/MEL_dia366_utt13_negative_FEA_mel.jpg (deflated 2%)\n",
            "  adding: train_mfcc_fear/MEL_dia811_utt9_negative_FEA_mel.jpg (deflated 2%)\n",
            "  adding: train_mfcc_fear/MEL_dia1016_utt11_negative_FEA_mel.jpg (deflated 2%)\n",
            "  adding: train_mfcc_fear/MEL_dia217_utt6_negative_FEA_mel.jpg (deflated 2%)\n",
            "  adding: train_mfcc_fear/MEL_dia595_utt6_negative_FEA_mel.jpg (deflated 2%)\n",
            "  adding: train_mfcc_fear/MEL_dia989_utt4_negative_FEA_mel.jpg (deflated 3%)\n",
            "  adding: train_mfcc_fear/MEL_dia782_utt6_negative_FEA_mel.jpg (deflated 2%)\n",
            "  adding: train_mfcc_fear/MEL_dia860_utt2_negative_FEA_mel.jpg (deflated 2%)\n",
            "  adding: train_mfcc_fear/MEL_dia921_utt1_negative_FEA_mel.jpg (deflated 2%)\n",
            "  adding: train_mfcc_fear/MEL_dia666_utt8_negative_FEA_mel.jpg (deflated 2%)\n",
            "  adding: train_mfcc_fear/MEL_dia921_utt6_negative_FEA_mel.jpg (deflated 2%)\n",
            "  adding: train_mfcc_fear/MEL_dia855_utt7_negative_FEA_mel.jpg (deflated 2%)\n",
            "  adding: train_mfcc_fear/MEL_dia997_utt7_negative_FEA_mel.jpg (deflated 2%)\n",
            "  adding: train_mfcc_fear/MEL_dia819_utt9_negative_FEA_mel.jpg (deflated 3%)\n",
            "  adding: train_mfcc_fear/MEL_dia576_utt0_negative_FEA_mel.jpg (deflated 2%)\n",
            "  adding: train_mfcc_fear/MEL_dia632_utt1_negative_FEA_mel.jpg (deflated 2%)\n",
            "  adding: train_mfcc_fear/MEL_dia869_utt5_negative_FEA_mel.jpg (deflated 2%)\n",
            "  adding: train_mfcc_fear/MEL_dia264_utt8_negative_FEA_mel.jpg (deflated 2%)\n",
            "  adding: train_mfcc_fear/MEL_dia175_utt4_negative_FEA_mel.jpg (deflated 2%)\n",
            "  adding: train_mfcc_fear/MEL_dia916_utt12_negative_FEA_mel.jpg (deflated 2%)\n",
            "  adding: train_mfcc_fear/MEL_dia301_utt2_negative_FEA_mel.jpg (deflated 2%)\n",
            "  adding: train_mfcc_fear/MEL_dia300_utt12_negative_FEA_mel.jpg (deflated 2%)\n",
            "  adding: train_mfcc_fear/MEL_dia612_utt5_negative_FEA_mel.jpg (deflated 2%)\n",
            "  adding: train_mfcc_fear/MEL_dia806_utt15_negative_FEA_mel.jpg (deflated 2%)\n",
            "  adding: train_mfcc_fear/MEL_dia695_utt1_negative_FEA_mel.jpg (deflated 2%)\n",
            "  adding: train_mfcc_fear/MEL_dia989_utt10_negative_FEA_mel.jpg (deflated 2%)\n",
            "  adding: train_mfcc_fear/MEL_dia564_utt6_negative_FEA_mel.jpg (deflated 2%)\n",
            "  adding: train_mfcc_fear/MEL_dia544_utt1_negative_FEA_mel.jpg (deflated 4%)\n",
            "  adding: train_mfcc_fear/MEL_dia769_utt1_negative_FEA_mel.jpg (deflated 2%)\n",
            "  adding: train_mfcc_fear/MEL_dia886_utt15_negative_FEA_mel.jpg (deflated 2%)\n",
            "  adding: train_mfcc_fear/MEL_dia326_utt5_negative_FEA_mel.jpg (deflated 2%)\n",
            "  adding: train_mfcc_fear/MEL_dia445_utt12_negative_FEA_mel.jpg (deflated 2%)\n",
            "  adding: train_mfcc_fear/MEL_dia770_utt17_negative_FEA_mel.jpg (deflated 2%)\n",
            "  adding: train_mfcc_fear/MEL_dia177_utt5_negative_FEA_mel.jpg (deflated 2%)\n",
            "  adding: train_mfcc_fear/MEL_dia980_utt10_negative_FEA_mel.jpg (deflated 2%)\n",
            "  adding: train_mfcc_fear/MEL_dia477_utt3_negative_FEA_mel.jpg (deflated 2%)\n",
            "  adding: train_mfcc_fear/MEL_dia130_utt11_negative_FEA_mel.jpg (deflated 2%)\n",
            "  adding: train_mfcc_fear/MEL_dia455_utt5_negative_FEA_mel.jpg (deflated 2%)\n",
            "  adding: train_mfcc_fear/MEL_dia476_utt7_negative_FEA_mel.jpg (deflated 2%)\n",
            "  adding: train_mfcc_fear/MEL_dia989_utt3_negative_FEA_mel.jpg (deflated 2%)\n",
            "  adding: train_mfcc_fear/MEL_dia654_utt2_negative_FEA_mel.jpg (deflated 2%)\n",
            "  adding: train_mfcc_fear/MEL_dia316_utt4_negative_FEA_mel.jpg (deflated 2%)\n",
            "  adding: train_mfcc_fear/MEL_dia1025_utt11_negative_FEA_mel.jpg (deflated 2%)\n",
            "  adding: train_mfcc_fear/MEL_dia496_utt8_negative_FEA_mel.jpg (deflated 3%)\n",
            "  adding: train_mfcc_fear/MEL_dia869_utt8_negative_FEA_mel.jpg (deflated 2%)\n",
            "  adding: train_mfcc_fear/MEL_dia867_utt2_negative_FEA_mel.jpg (deflated 2%)\n",
            "  adding: train_mfcc_fear/MEL_dia301_utt0_negative_FEA_mel.jpg (deflated 2%)\n",
            "  adding: train_mfcc_fear/MEL_dia178_utt6_negative_FEA_mel.jpg (deflated 2%)\n",
            "  adding: train_mfcc_fear/MEL_dia376_utt3_negative_FEA_mel.jpg (deflated 2%)\n",
            "  adding: train_mfcc_fear/MEL_dia351_utt4_negative_FEA_mel.jpg (deflated 2%)\n",
            "  adding: train_mfcc_fear/MEL_dia274_utt10_negative_FEA_mel.jpg (deflated 2%)\n",
            "  adding: train_mfcc_fear/MEL_dia182_utt4_negative_FEA_mel.jpg (deflated 2%)\n",
            "  adding: train_mfcc_fear/MEL_dia673_utt20_negative_FEA_mel.jpg (deflated 2%)\n",
            "  adding: train_mfcc_fear/MEL_dia180_utt15_negative_FEA_mel.jpg (deflated 2%)\n",
            "  adding: train_mfcc_fear/MEL_dia782_utt4_negative_FEA_mel.jpg (deflated 2%)\n",
            "  adding: train_mfcc_fear/MEL_dia227_utt0_negative_FEA_mel.jpg (deflated 2%)\n",
            "  adding: train_mfcc_fear/MEL_dia796_utt12_negative_FEA_mel.jpg (deflated 2%)\n",
            "  adding: train_mfcc_fear/MEL_dia939_utt3_negative_FEA_mel.jpg (deflated 2%)\n",
            "  adding: train_mfcc_fear/MEL_dia245_utt4_negative_FEA_mel.jpg (deflated 2%)\n",
            "  adding: train_mfcc_fear/MEL_dia143_utt5_negative_FEA_mel.jpg (deflated 2%)\n",
            "  adding: train_mfcc_fear/MEL_dia301_utt15_negative_FEA_mel.jpg (deflated 2%)\n",
            "  adding: train_mfcc_fear/MEL_dia658_utt4_negative_FEA_mel.jpg (deflated 4%)\n",
            "  adding: train_mfcc_fear/MEL_dia736_utt10_negative_FEA_mel.jpg (deflated 2%)\n",
            "  adding: train_mfcc_fear/MEL_dia165_utt6_negative_FEA_mel.jpg (deflated 2%)\n",
            "  adding: train_mfcc_fear/MEL_dia177_utt3_negative_FEA_mel.jpg (deflated 2%)\n",
            "  adding: train_mfcc_fear/MEL_dia153_utt11_negative_FEA_mel.jpg (deflated 2%)\n",
            "  adding: train_mfcc_fear/MEL_dia289_utt1_negative_FEA_mel.jpg (deflated 2%)\n",
            "  adding: train_mfcc_fear/MEL_dia184_utt6_negative_FEA_mel.jpg (deflated 2%)\n",
            "  adding: train_mfcc_fear/MEL_dia571_utt1_negative_FEA_mel.jpg (deflated 2%)\n",
            "  adding: train_mfcc_fear/MEL_dia645_utt8_negative_FEA_mel.jpg (deflated 2%)\n",
            "  adding: train_mfcc_fear/MEL_dia736_utt9_negative_FEA_mel.jpg (deflated 2%)\n",
            "  adding: train_mfcc_fear/MEL_dia676_utt4_negative_FEA_mel.jpg (deflated 2%)\n",
            "  adding: train_mfcc_fear/MEL_dia356_utt20_negative_FEA_mel.jpg (deflated 2%)\n",
            "  adding: train_mfcc_fear/MEL_dia358_utt6_negative_FEA_mel.jpg (deflated 2%)\n",
            "  adding: train_mfcc_fear/MEL_dia798_utt3_negative_FEA_mel.jpg (deflated 2%)\n",
            "  adding: train_mfcc_fear/MEL_dia782_utt9_negative_FEA_mel.jpg (deflated 2%)\n",
            "  adding: train_mfcc_fear/MEL_dia989_utt11_negative_FEA_mel.jpg (deflated 2%)\n",
            "  adding: train_mfcc_fear/MEL_dia508_utt5_negative_FEA_mel.jpg (deflated 5%)\n",
            "  adding: train_mfcc_fear/MEL_dia932_utt5_negative_FEA_mel.jpg (deflated 2%)\n",
            "  adding: train_mfcc_fear/MEL_dia263_utt4_negative_FEA_mel.jpg (deflated 2%)\n",
            "  adding: train_mfcc_fear/MEL_dia231_utt9_negative_FEA_mel.jpg (deflated 2%)\n",
            "  adding: train_mfcc_fear/MEL_dia574_utt14_negative_FEA_mel.jpg (deflated 2%)\n"
          ],
          "name": "stdout"
        }
      ]
    },
    {
      "cell_type": "code",
      "metadata": {
        "id": "kfaknNwoAopg",
        "colab_type": "code",
        "colab": {
          "base_uri": "https://localhost:8080/",
          "height": 34
        },
        "outputId": "6c2affea-7c09-4ab5-990a-ae99d8191635"
      },
      "source": [
        "print(len(os.listdir('train_mel_spectrogram_fear/')), len(os.listdir('train_mfcc_fear/')))"
      ],
      "execution_count": 36,
      "outputs": [
        {
          "output_type": "stream",
          "text": [
            "216 216\n"
          ],
          "name": "stdout"
        }
      ]
    },
    {
      "cell_type": "code",
      "metadata": {
        "id": "Dj1ngeg7Au2a",
        "colab_type": "code",
        "colab": {}
      },
      "source": [
        "import pickle"
      ],
      "execution_count": 0,
      "outputs": []
    },
    {
      "cell_type": "code",
      "metadata": {
        "id": "7Nf4y2C9AwW4",
        "colab_type": "code",
        "colab": {}
      },
      "source": [
        "with open('spectral_features_train_fear.pkl', 'wb') as fp:\n",
        "  pickle.dump(features_train_fear, fp)"
      ],
      "execution_count": 0,
      "outputs": []
    },
    {
      "cell_type": "code",
      "metadata": {
        "id": "TcG2AisHA2Hl",
        "colab_type": "code",
        "colab": {}
      },
      "source": [
        ""
      ],
      "execution_count": 0,
      "outputs": []
    }
  ]
}